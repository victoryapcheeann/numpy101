{
 "cells": [
  {
   "cell_type": "markdown",
   "metadata": {},
   "source": [
    "# Numpy Financial\n",
    "\n",
    "https://numpy.org/numpy-financial/latest/"
   ]
  },
  {
   "cell_type": "code",
   "execution_count": 1,
   "metadata": {},
   "outputs": [],
   "source": [
    "import numpy as np\n",
    "import numpy_financial as npf"
   ]
  },
  {
   "cell_type": "markdown",
   "metadata": {},
   "source": [
    "## 1) Present Value\n",
    "\n",
    "numpy_financial.pv(rate, nper, pmt, fv=0, when='end')\n",
    "\n",
    "What is the present value (e.g., the initial investment) of an investment that needs to total \\\\$15692.93 <br> after 10 years of saving \\\\$100 every month? Assume the interest rate is 5% (annually) compounded monthly."
   ]
  },
  {
   "cell_type": "code",
   "execution_count": 2,
   "metadata": {},
   "outputs": [
    {
     "data": {
      "text/plain": [
       "-100.00067131625819"
      ]
     },
     "execution_count": 2,
     "metadata": {},
     "output_type": "execute_result"
    }
   ],
   "source": [
    "npf.pv(0.05/12, 10*12, -100, 15692.93)"
   ]
  },
  {
   "cell_type": "markdown",
   "metadata": {},
   "source": [
    "By convention, the negative sign represents cash flow out (i.e., money not available today). Thus, to end up with \\\\$15,692.93 in 10 years saving $100 a month at 5% annual interest, one’s initial deposit should also be \\\\$100.\n",
    "\n",
    "If any input is array_like, pv returns an array of equal shape. Let’s compare different interest rates in the example above:"
   ]
  },
  {
   "cell_type": "code",
   "execution_count": 3,
   "metadata": {},
   "outputs": [
    {
     "data": {
      "text/plain": [
       "array([ -100.00067132,  -649.26771385, -1273.78633713])"
      ]
     },
     "execution_count": 3,
     "metadata": {},
     "output_type": "execute_result"
    }
   ],
   "source": [
    "a = np.array((0.05, 0.04, 0.03))/12\n",
    "npf.pv(a, 10*12, -100, 15692.93)"
   ]
  },
  {
   "cell_type": "markdown",
   "metadata": {},
   "source": [
    "So, to end up with the same \\\\$15692.93 under the same \\\\$100 per month “savings plan,” for annual interest rates of 4% and 3%, one would need initial investments of \\\\$649.27 and \\\\$1273.79, respectively."
   ]
  },
  {
   "cell_type": "markdown",
   "metadata": {},
   "source": [
    "# 2) Future Value\n",
    "\n",
    "numpy_financial.fv(rate, nper, pmt, pv, when='end')\n",
    "\n",
    "What is the future value after 10 years of saving \\\\$100 now, with an additional monthly savings of \\\\$100. Assume the interest rate is 5% (annually) compounded monthly?"
   ]
  },
  {
   "cell_type": "code",
   "execution_count": 4,
   "metadata": {},
   "outputs": [
    {
     "data": {
      "text/plain": [
       "15692.928894335748"
      ]
     },
     "execution_count": 4,
     "metadata": {},
     "output_type": "execute_result"
    }
   ],
   "source": [
    "npf.fv(0.05/12, 10*12, -100, -100)"
   ]
  },
  {
   "cell_type": "markdown",
   "metadata": {},
   "source": [
    "By convention, the negative sign represents cash flow out (i.e. money not available today). Thus, saving \\\\$100 a month at 5% annual interest leads to \\\\$15,692.93 available to spend in 10 years.\n",
    "\n",
    "If any input is array_like, returns an array of equal shape. Let’s compare different interest rates from the example above."
   ]
  },
  {
   "cell_type": "code",
   "execution_count": 5,
   "metadata": {},
   "outputs": [
    {
     "data": {
      "text/plain": [
       "array([15692.92889434, 16569.87435405, 17509.44688102])"
      ]
     },
     "execution_count": 5,
     "metadata": {},
     "output_type": "execute_result"
    }
   ],
   "source": [
    "a = np.array((0.05, 0.06, 0.07))/12\n",
    "npf.fv(a, 10*12, -100, -100)"
   ]
  },
  {
   "cell_type": "markdown",
   "metadata": {},
   "source": [
    "# 3) Compute the interest portion of a payment.\n",
    "\n",
    "numpy_financial.ipmt(rate, per, nper, pv, fv=0, when='end')\n",
    "\n",
    "The total payment is made up of payment against principal plus interest.\n",
    "\n",
    "pmt = ppmt + ipmt\n",
    "\n",
    "What is the amortization schedule for a 1 year loan of $2500 at 8.24% interest per year compounded monthly?"
   ]
  },
  {
   "cell_type": "code",
   "execution_count": 6,
   "metadata": {},
   "outputs": [],
   "source": [
    "principal = 2500.00"
   ]
  },
  {
   "cell_type": "markdown",
   "metadata": {},
   "source": [
    "The ‘per’ variable represents the periods of the loan. Remember that financial equations start the period count at 1!"
   ]
  },
  {
   "cell_type": "code",
   "execution_count": 7,
   "metadata": {},
   "outputs": [],
   "source": [
    "per = np.arange(1*12) + 1\n",
    "ipmt = npf.ipmt(0.0824/12, per, 1*12, principal)\n",
    "ppmt = npf.ppmt(0.0824/12, per, 1*12, principal)"
   ]
  },
  {
   "cell_type": "markdown",
   "metadata": {},
   "source": [
    "Each element of the sum of the ‘ipmt’ and ‘ppmt’ arrays should equal ‘pmt’."
   ]
  },
  {
   "cell_type": "code",
   "execution_count": 8,
   "metadata": {},
   "outputs": [
    {
     "data": {
      "text/plain": [
       "True"
      ]
     },
     "execution_count": 8,
     "metadata": {},
     "output_type": "execute_result"
    }
   ],
   "source": [
    "pmt = npf.pmt(0.0824/12, 1*12, principal)\n",
    "np.allclose(ipmt + ppmt, pmt)"
   ]
  },
  {
   "cell_type": "code",
   "execution_count": 9,
   "metadata": {},
   "outputs": [
    {
     "name": "stdout",
     "output_type": "stream",
     "text": [
      " 1  -200.58   -17.17  2299.42\n",
      " 2  -201.96   -15.79  2097.46\n",
      " 3  -203.35   -14.40  1894.11\n",
      " 4  -204.74   -13.01  1689.37\n",
      " 5  -206.15   -11.60  1483.22\n",
      " 6  -207.56   -10.18  1275.66\n",
      " 7  -208.99    -8.76  1066.67\n",
      " 8  -210.42    -7.32   856.25\n",
      " 9  -211.87    -5.88   644.38\n",
      "10  -213.32    -4.42   431.05\n",
      "11  -214.79    -2.96   216.26\n",
      "12  -216.26    -1.49    -0.00\n"
     ]
    }
   ],
   "source": [
    "fmt = '{0:2d} {1:8.2f} {2:8.2f} {3:8.2f}'\n",
    "for payment in per:\n",
    "     index = payment - 1\n",
    "     principal = principal + ppmt[index]\n",
    "     print(fmt.format(payment, ppmt[index], ipmt[index], principal))"
   ]
  },
  {
   "cell_type": "code",
   "execution_count": 10,
   "metadata": {},
   "outputs": [
    {
     "data": {
      "text/plain": [
       "-112.98"
      ]
     },
     "execution_count": 10,
     "metadata": {},
     "output_type": "execute_result"
    }
   ],
   "source": [
    "interestpd = np.sum(ipmt)\n",
    "np.round(interestpd, 2)"
   ]
  },
  {
   "cell_type": "markdown",
   "metadata": {},
   "source": [
    "# 4) Return the Internal Rate of Return (IRR).\n",
    "\n",
    "numpy_financial.irr(values)\n",
    "\n",
    "This is the “average” periodically compounded rate of return that gives a net present value of 0.0; \n",
    "\n",
    "The IRR is perhaps best understood through an example (illustrated using np.irr in the Examples section below). Suppose one invests 100 units and then makes the following withdrawals at regular (fixed) intervals: 39, 59, 55, 20. Assuming the ending value is 0, one’s 100 unit investment yields 173 units; however, due to the combination of compounding and the periodic withdrawals, the “average” rate of return is neither simply 0.73/4 nor (1.73)^0.25-1. Rather, it is the solution (for r) of the equation:"
   ]
  },
  {
   "cell_type": "code",
   "execution_count": 13,
   "metadata": {},
   "outputs": [
    {
     "name": "stdout",
     "output_type": "stream",
     "text": [
      "0.28095\n",
      "-0.0955\n",
      "-0.0833\n",
      "0.06206\n",
      "0.0886\n"
     ]
    }
   ],
   "source": [
    "print(round(npf.irr([-100, 39, 59, 55, 20]), 5))\n",
    "print(round(npf.irr([-100, 0, 0, 74]), 5))\n",
    "print(round(npf.irr([-100, 100, 0, -7]), 5))\n",
    "print(round(npf.irr([-100, 100, 0, 7]), 5))\n",
    "print(round(npf.irr([-5, 10.5, 1, -8, 1]), 5))"
   ]
  },
  {
   "cell_type": "markdown",
   "metadata": {},
   "source": [
    "# 5) Modified internal rate of return (mirr)\n",
    "\n",
    "numpy_financial.mirr(values, finance_rate, reinvest_rate)"
   ]
  },
  {
   "cell_type": "markdown",
   "metadata": {},
   "source": [
    "# 6) Compute the number of periodic payments.\n",
    "\n",
    "numpy_financial.nper(rate, pmt, pv, fv=0, when='end')\n",
    "\n",
    "If you only had \\\\$150/month to pay towards the loan, how long would it take to pay-off a loan of \\\\$8,000 at 7% annual interest?"
   ]
  },
  {
   "cell_type": "code",
   "execution_count": 15,
   "metadata": {},
   "outputs": [
    {
     "name": "stdout",
     "output_type": "stream",
     "text": [
      "64.07335\n"
     ]
    }
   ],
   "source": [
    "print(np.round(npf.nper(0.07/12, -150, 8000), 5))"
   ]
  },
  {
   "cell_type": "markdown",
   "metadata": {},
   "source": [
    "So, over 64 months would be required to pay off the loan.\n",
    "\n",
    "The same analysis could be done with several different interest rates and/or payments and/or total amounts to produce an entire table."
   ]
  },
  {
   "cell_type": "code",
   "execution_count": 16,
   "metadata": {},
   "outputs": [
    {
     "data": {
      "text/plain": [
       "array([[[ 64.07334877,  74.06368256],\n",
       "        [108.07548412, 127.99022654]],\n",
       "\n",
       "       [[ 66.12443902,  76.87897353],\n",
       "        [114.70165583, 137.90124779]]])"
      ]
     },
     "execution_count": 16,
     "metadata": {},
     "output_type": "execute_result"
    }
   ],
   "source": [
    "npf.nper(*(np.ogrid[0.07/12: 0.08/12: 0.01/12,\n",
    "                     -150   : -99    : 50    ,\n",
    "                     8000   : 9001   : 1000]))"
   ]
  },
  {
   "cell_type": "markdown",
   "metadata": {},
   "source": [
    "# 7) Net Present Value (NPV)\n",
    "\n",
    "numpy_financial.npv(rate, values)\n",
    "\n",
    "Returns the NPV (Net Present Value) of a cash flow series.\n",
    "\n",
    "Consider a potential project with an initial investment of \\\\$40000 and projected cashflows of \\\\$5000, \\\\$8000, \\\\$12000 and \\\\$30000 at the end of each period discounted at a rate of 8% per period. To find the project’s net present value:"
   ]
  },
  {
   "cell_type": "code",
   "execution_count": 17,
   "metadata": {},
   "outputs": [
    {
     "data": {
      "text/plain": [
       "3065.22267"
      ]
     },
     "execution_count": 17,
     "metadata": {},
     "output_type": "execute_result"
    }
   ],
   "source": [
    "rate, cashflows = 0.08, [-40_000, 5_000, 8_000, 12_000, 30_000]\n",
    "npf.npv(rate, cashflows).round(5)"
   ]
  },
  {
   "cell_type": "markdown",
   "metadata": {},
   "source": [
    "It may be preferable to split the projected cashflow into an initial investment and expected future cashflows. In this case, the value of the initial cashflow is zero and the initial investment is later added to the future cashflows net present value:"
   ]
  },
  {
   "cell_type": "code",
   "execution_count": 18,
   "metadata": {},
   "outputs": [
    {
     "data": {
      "text/plain": [
       "3065.22267"
      ]
     },
     "execution_count": 18,
     "metadata": {},
     "output_type": "execute_result"
    }
   ],
   "source": [
    "initial_cashflow = cashflows[0]\n",
    "cashflows[0] = 0\n",
    "np.round(npf.npv(rate, cashflows) + initial_cashflow, 5)"
   ]
  },
  {
   "cell_type": "markdown",
   "metadata": {},
   "source": [
    "# 8) PMT\n",
    "\n",
    "numpy_financial.pmt(rate, nper, pv, fv=0, when='end')\n",
    "\n",
    "Compute the payment against loan principal plus interest.\n",
    "\n",
    "What is the monthly payment needed to pay off a $200,000 loan in 15 years at an annual interest rate of 7.5%?"
   ]
  },
  {
   "cell_type": "code",
   "execution_count": 19,
   "metadata": {},
   "outputs": [
    {
     "data": {
      "text/plain": [
       "-1854.0247200054619"
      ]
     },
     "execution_count": 19,
     "metadata": {},
     "output_type": "execute_result"
    }
   ],
   "source": [
    "npf.pmt(0.075/12, 12*15, 200000)"
   ]
  },
  {
   "cell_type": "markdown",
   "metadata": {},
   "source": [
    "In order to pay-off (i.e., have a future-value of 0) the $200,000 obtained today, a monthly payment of $1,854.02 would be required. Note that this example illustrates usage of fv having a default value of 0."
   ]
  },
  {
   "cell_type": "markdown",
   "metadata": {},
   "source": [
    "# 9) PPMT\n",
    "\n",
    "numpy_financial.ppmt(rate, per, nper, pv, fv=0, when='end')\n",
    "\n",
    "Compute the payment against loan principal."
   ]
  },
  {
   "cell_type": "markdown",
   "metadata": {},
   "source": [
    "# 10) rate\n",
    "\n",
    "numpy_financial.rate(nper, pmt, pv, fv, when='end', guess=None, tol=None, maxiter=100)\n",
    "\n",
    "Compute the rate of interest per period."
   ]
  },
  {
   "cell_type": "code",
   "execution_count": null,
   "metadata": {},
   "outputs": [],
   "source": []
  }
 ],
 "metadata": {
  "kernelspec": {
   "display_name": "Python 3",
   "language": "python",
   "name": "python3"
  },
  "language_info": {
   "codemirror_mode": {
    "name": "ipython",
    "version": 3
   },
   "file_extension": ".py",
   "mimetype": "text/x-python",
   "name": "python",
   "nbconvert_exporter": "python",
   "pygments_lexer": "ipython3",
   "version": "3.7.6"
  }
 },
 "nbformat": 4,
 "nbformat_minor": 4
}
